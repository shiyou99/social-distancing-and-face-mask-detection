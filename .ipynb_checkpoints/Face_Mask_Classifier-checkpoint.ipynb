{
 "cells": [
  {
   "cell_type": "code",
   "execution_count": null,
   "metadata": {
    "colab": {},
    "colab_type": "code",
    "id": "rETrWaAeu4iv"
   },
   "outputs": [],
   "source": [
    "# Mount Google Drive (If using Colab)\n",
    "\n",
    "from google.colab import drive\n",
    "drive.mount(\"drive\")"
   ]
  },
  {
   "cell_type": "code",
   "execution_count": 1,
   "metadata": {
    "colab": {},
    "colab_type": "code",
    "id": "aokSHhLh4I4T"
   },
   "outputs": [
    {
     "name": "stdout",
     "output_type": "stream",
     "text": [
      "Collecting git+https://github.com/hukkelas/DSFD-Pytorch-Inference.git\n",
      "  Cloning https://github.com/hukkelas/DSFD-Pytorch-Inference.git to c:\\users\\shiyou\\appdata\\local\\temp\\pip-req-build-1zwrt_h1\n",
      "  Resolved https://github.com/hukkelas/DSFD-Pytorch-Inference.git to commit 2bdd997d785e20ea39a911e9b3c451b7cdd3b152\n",
      "Requirement already satisfied: torch>=1.6 in c:\\users\\shiyou\\anaconda3\\envs\\ml\\lib\\site-packages (from face-detection==0.2.1) (1.10.0)\n",
      "Requirement already satisfied: torchvision>=0.3.0 in c:\\users\\shiyou\\anaconda3\\envs\\ml\\lib\\site-packages (from face-detection==0.2.1) (0.11.1)\n",
      "Requirement already satisfied: numpy in c:\\users\\shiyou\\anaconda3\\envs\\ml\\lib\\site-packages (from face-detection==0.2.1) (1.19.5)\n",
      "Requirement already satisfied: typing-extensions in c:\\users\\shiyou\\anaconda3\\envs\\ml\\lib\\site-packages (from torch>=1.6->face-detection==0.2.1) (3.7.4.3)\n",
      "Requirement already satisfied: pillow!=8.3.0,>=5.3.0 in c:\\users\\shiyou\\anaconda3\\envs\\ml\\lib\\site-packages (from torchvision>=0.3.0->face-detection==0.2.1) (8.4.0)\n"
     ]
    },
    {
     "name": "stderr",
     "output_type": "stream",
     "text": [
      "  Running command git clone -q https://github.com/hukkelas/DSFD-Pytorch-Inference.git 'C:\\Users\\ShiYou\\AppData\\Local\\Temp\\pip-req-build-1zwrt_h1'\n"
     ]
    },
    {
     "name": "stdout",
     "output_type": "stream",
     "text": [
      "Requirement already satisfied: tqdm in c:\\users\\shiyou\\anaconda3\\envs\\ml\\lib\\site-packages (4.62.3)\n",
      "Requirement already satisfied: colorama in c:\\users\\shiyou\\anaconda3\\envs\\ml\\lib\\site-packages (from tqdm) (0.4.4)\n"
     ]
    }
   ],
   "source": [
    "# Install Required Libraries from PyPI\n",
    "\n",
    "!pip install git+https://github.com/hukkelas/DSFD-Pytorch-Inference.git\n",
    "!pip install tqdm"
   ]
  },
  {
   "cell_type": "code",
   "execution_count": 1,
   "metadata": {
    "colab": {},
    "colab_type": "code",
    "id": "K4hzxFx9p0K_"
   },
   "outputs": [],
   "source": [
    "# Import Required Libraries\n",
    "\n",
    "import os\n",
    "import numpy as np\n",
    "import cv2\n",
    "import face_detection\n",
    "import tensorflow \n",
    "from tensorflow.keras.applications.resnet50 import ResNet50\n",
    "from keras.models import Model\n",
    "from keras.layers import Dense,Dropout,AveragePooling2D,Flatten\n",
    "from tensorflow.keras.optimizers import Adam\n",
    "from keras.preprocessing.image import ImageDataGenerator\n",
    "import tqdm\n",
    "# from google.colab.patches import cv2_imshow"
   ]
  },
  {
   "cell_type": "code",
   "execution_count": 2,
   "metadata": {
    "colab": {},
    "colab_type": "code",
    "id": "WGwCQt_yPs5b"
   },
   "outputs": [],
   "source": [
    "# Initialize a Face Detector \n",
    "# Confidence Threshold can be Adjusted, Greater values would Detect only Clear Faces\n",
    "\n",
    "detector = face_detection.build_detector(\"DSFDDetector\", confidence_threshold=.5, nms_iou_threshold=.3)"
   ]
  },
  {
   "cell_type": "markdown",
   "metadata": {
    "colab_type": "text",
    "id": "5HsIzcg5PDTm"
   },
   "source": [
    "## BLURRING AUGMENTATION ##"
   ]
  },
  {
   "cell_type": "code",
   "execution_count": 3,
   "metadata": {
    "colab": {},
    "colab_type": "code",
    "id": "2Dmr3Z0kCZlL"
   },
   "outputs": [],
   "source": [
    "# Define Blurring Kernel Size Ranges, a Random Size would be chosen in the Specified Ranges\n",
    "# Greater the Size, Higher is the Blurring Effect (Adjustments can be made according to the needs)\n",
    "\n",
    "motion_blur_kernel_range = (4,8)  \n",
    "average_blur_kernel_range = (3,7)\n",
    "gaussian_blur_kernel_range = (3,8)"
   ]
  },
  {
   "cell_type": "code",
   "execution_count": 4,
   "metadata": {
    "colab": {},
    "colab_type": "code",
    "id": "SuLM_nMaCZr6"
   },
   "outputs": [],
   "source": [
    "# Set Blurring Kernels to Use and their associated Probabilities\n",
    "\n",
    "Blurring_Kernels = [\"none\",\"motion\",\"gaussian\",\"average\"]\n",
    "Probs = [0.75,0.1,0.05,0.1]"
   ]
  },
  {
   "cell_type": "code",
   "execution_count": 5,
   "metadata": {
    "colab": {},
    "colab_type": "code",
    "id": "0fjXNQkcCmN7"
   },
   "outputs": [],
   "source": [
    "# Add Motion Blur to an Image in a Random Direction\n",
    "\n",
    "def motion_blur(img):\n",
    "\n",
    "  # Choose a Random Kernel Size\n",
    "  kernel_size = np.random.randint(motion_blur_kernel_range[0],motion_blur_kernel_range[1])\n",
    "  kernel = np.zeros((kernel_size, kernel_size))\n",
    "\n",
    "  # Random Selection of Direction of Motion Blur\n",
    "  types = [\"vertical\",\"horizontal\",\"main_diagonal\",\"anti_diagonal\"]\n",
    "  choice = np.random.choice(types)\n",
    "\n",
    "  if choice==\"vertical\":\n",
    "    kernel[:,int((kernel_size-1)/2)] = np.ones(kernel_size)/kernel_size\n",
    "  \n",
    "  elif choice==\"horizontal\":\n",
    "    kernel[int((kernel_size-1)/2),:] = np.ones(kernel_size)/kernel_size\n",
    "  \n",
    "  elif choice==\"main_diagonal\":\n",
    "    \n",
    "    for i in range(kernel_size):\n",
    "      kernel[i][i] = 1/kernel_size\n",
    "\n",
    "  elif choice==\"anti_diagonal\":\n",
    "\n",
    "    for i in range(kernel_size):\n",
    "      kernel[i][kernel_size-i-1] = 1/kernel_size\n",
    "\n",
    "  # Convolve and Return the Blurred Image\n",
    "  return cv2.filter2D(img,-1,kernel)"
   ]
  },
  {
   "cell_type": "code",
   "execution_count": 6,
   "metadata": {
    "colab": {},
    "colab_type": "code",
    "id": "1oV1z5DBCnHU"
   },
   "outputs": [],
   "source": [
    "# Add a Random Blur Effect to an Image with a Random Kernel Size (in the Specified Ranges)\n",
    "from tensorflow.keras.applications.resnet50 import preprocess_input\n",
    "\n",
    "def get_blurred_picture(img):\n",
    "  \n",
    "  # Randomly choose a Blurring Technique\n",
    "  choice = np.random.choice(Blurring_Kernels,p=Probs)\n",
    "\n",
    "  # RGB to BGR for OpenCV\n",
    "  img = img[:,:,::-1]\n",
    "\n",
    "  if choice==\"none\":\n",
    "\n",
    "    random_blurred_img = img\n",
    "\n",
    "  elif choice==\"motion\":\n",
    "  \n",
    "    random_blurred_img  = motion_blur(img)\n",
    "\n",
    "  elif choice==\"gaussian\":\n",
    "\n",
    "    kernel_size = np.random.randint(gaussian_blur_kernel_range[0],gaussian_blur_kernel_range[1])\n",
    "\n",
    "    if kernel_size%2==0:\n",
    "      kernel_size-=1\n",
    "    \n",
    "    random_blurred_img = cv2.GaussianBlur(img,(kernel_size,kernel_size),0)\n",
    "\n",
    "  elif choice==\"average\":\n",
    "  \n",
    "    kernel_size = np.random.randint(average_blur_kernel_range[0],average_blur_kernel_range[1])\n",
    "    random_blurred_img = cv2.blur(img,(kernel_size,kernel_size))\n",
    "\n",
    "  # PreProcess for ResNet50\n",
    "  preprocessed = preprocess_input(random_blurred_img[:,:,::-1])\n",
    "  \n",
    "  return preprocessed "
   ]
  },
  {
   "cell_type": "markdown",
   "metadata": {
    "colab_type": "text",
    "id": "iLSdHog6PHcO"
   },
   "source": [
    "## TRAINING ##"
   ]
  },
  {
   "cell_type": "code",
   "execution_count": 7,
   "metadata": {
    "colab": {},
    "colab_type": "code",
    "id": "WCJEPPGfqK29"
   },
   "outputs": [],
   "source": [
    "# Load Pretrained ResNet50 Model (without Last few Layers) \n",
    "# Freeze all the Layers\n",
    "\n",
    "base_network  = ResNet50(input_shape = (224,224,3),weights='imagenet',include_top=False)\n",
    "for layer in base_network.layers:\n",
    "  layer.trainaibale = False"
   ]
  },
  {
   "cell_type": "code",
   "execution_count": 8,
   "metadata": {
    "colab": {},
    "colab_type": "code",
    "id": "wSwzjQedqQsr"
   },
   "outputs": [],
   "source": [
    "# Define the Face Mask Classifier Model by adding a few Layers on top of the ResNet50 Pretrained Model\n",
    "\n",
    "classifier_network = base_network.output\n",
    "classifier_network = AveragePooling2D(pool_size=(7, 7),name = \"Average_Pool_Final\")(classifier_network)\n",
    "classifier_network = Flatten(name = \"Flatten_Final\")(classifier_network)\n",
    "classifier_network = Dense(128, activation=\"relu\",name = \"Dense_Final\")(classifier_network)\n",
    "classifier_network = Dropout(0.5,name = \"Dropout_Final\")(classifier_network)\n",
    "classifier_network = Dense(1, activation=\"sigmoid\", name = \"Sigmoid_Classifier\" )(classifier_network)\n",
    "\n",
    "mask_classifier = Model(inputs=base_network.input, outputs=classifier_network)"
   ]
  },
  {
   "cell_type": "code",
   "execution_count": 9,
   "metadata": {
    "colab": {},
    "colab_type": "code",
    "id": "uTalRyPrNk1w"
   },
   "outputs": [],
   "source": [
    "# Set Path to the Dataset\n",
    "# Faces would be extracted and placed in the specified Directory after Processing\n",
    "\n",
    "Dataset_PATH = r\"C:\\Users\\ShiYou\\Desktop\\Sem 7\\WID3008 Image Processing\\Assignment\\Social_Distancing_with_AI\\dataset\\training_data\"\n",
    "Processed_Dataset_PATH = r\"C:\\Users\\ShiYou\\Desktop\\Sem 7\\WID3008 Image Processing\\Assignment\\Social_Distancing_with_AI\\dataset\\processed_data\""
   ]
  },
  {
   "cell_type": "code",
   "execution_count": null,
   "metadata": {
    "colab": {},
    "colab_type": "code",
    "id": "6ZJlEg8y4Q_2"
   },
   "outputs": [
    {
     "data": {
      "application/vnd.jupyter.widget-view+json": {
       "model_id": "87c0d78b654e411382b030e4ee8e5a02",
       "version_major": 2,
       "version_minor": 0
      },
      "text/plain": [
       "  0%|          | 0/3725 [00:00<?, ?it/s]"
      ]
     },
     "metadata": {},
     "output_type": "display_data"
    },
    {
     "name": "stderr",
     "output_type": "stream",
     "text": [
      "C:\\Users\\ShiYou\\anaconda3\\envs\\ML\\lib\\site-packages\\torch\\autocast_mode.py:141: UserWarning: User provided device_type of 'cuda', but CUDA is not available. Disabling\n",
      "  warnings.warn('User provided device_type of \\'cuda\\', but CUDA is not available. Disabling')\n"
     ]
    }
   ],
   "source": [
    "# Prepare the Data for Training \n",
    "# Extract Faces from the Dataset and Save them in the specified Directory\n",
    "\n",
    "# There should be 2 Sub-Directories corresponding to Masked and Non-Masked Faces\n",
    "paths = [\"with_mask\",\"without_mask\"]\n",
    "\n",
    "for path in paths:\n",
    "\n",
    "  curr_path = os.path.join(Dataset_PATH,path)\n",
    "  \n",
    "  # Loop through all Images\n",
    "  for file_name in tqdm.notebook.tqdm(os.listdir(curr_path)):\n",
    "\n",
    "    try:\n",
    "      \n",
    "      image = cv2.imread(os.path.join(curr_path,file_name))\n",
    "\n",
    "      # Detect Faces, Crop and Save\n",
    "      detections = detector.detect(image[:,:,::-1])\n",
    "\n",
    "      for j in range(len(detections)):\n",
    "    \n",
    "        face = image[int(detections[j][1]):int(detections[j][3]),\n",
    "                     int(detections[j][0]):int(detections[j][2])]\n",
    "        \n",
    "        cv2.imwrite(os.path.join(Processed_Dataset_PATH,path)+\"/\"+file_name,face)\n",
    "    \n",
    "    except:\n",
    "      continue"
   ]
  },
  {
   "cell_type": "code",
   "execution_count": 24,
   "metadata": {
    "colab": {},
    "colab_type": "code",
    "id": "ezSSJGkwMrbo"
   },
   "outputs": [],
   "source": [
    "# Set the Hyper-Parameters\n",
    "\n",
    "alpha = 0.00001\n",
    "n_epochs = 5\n",
    "mini_batch_size = 16"
   ]
  },
  {
   "cell_type": "code",
   "execution_count": 25,
   "metadata": {
    "colab": {},
    "colab_type": "code",
    "id": "x9SxYvmKNQMY"
   },
   "outputs": [],
   "source": [
    "# Compile the Model\n",
    "\n",
    "opt = Adam(learning_rate=alpha,decay = alpha/n_epochs)\n",
    "mask_classifier.compile(optimizer=opt,loss=\"binary_crossentropy\",metrics = ['accuracy'])"
   ]
  },
  {
   "cell_type": "code",
   "execution_count": 26,
   "metadata": {
    "colab": {},
    "colab_type": "code",
    "id": "UI9CuRrNJbcF"
   },
   "outputs": [],
   "source": [
    "# Define a ImageDataGenerator for Real-Time Data Augmentation\n",
    "# Parameters can be Tuned for controlling the Augmentation\n",
    "\n",
    "Data_Generator = ImageDataGenerator(horizontal_flip=True,\n",
    "                                    brightness_range=[0.5,1.25],\n",
    "                                    zoom_range=[0.8,1],\n",
    "                                    rotation_range = 15,\n",
    "                                    preprocessing_function=get_blurred_picture)"
   ]
  },
  {
   "cell_type": "code",
   "execution_count": 27,
   "metadata": {
    "colab": {},
    "colab_type": "code",
    "id": "jdHpqCnqKXQb"
   },
   "outputs": [
    {
     "name": "stdout",
     "output_type": "stream",
     "text": [
      "Found 14186 images belonging to 2 classes.\n"
     ]
    }
   ],
   "source": [
    "# Create a Data_Generator Instance\n",
    "\n",
    "Train_Data_Generator = Data_Generator.flow_from_directory(Processed_Dataset_PATH,target_size=(224,224),\n",
    "                                                          class_mode=\"binary\",batch_size=mini_batch_size)"
   ]
  },
  {
   "cell_type": "code",
   "execution_count": 28,
   "metadata": {
    "colab": {},
    "colab_type": "code",
    "id": "OS6tgzXlLKgO"
   },
   "outputs": [
    {
     "name": "stdout",
     "output_type": "stream",
     "text": [
      "Epoch 1/5\n"
     ]
    },
    {
     "ename": "ResourceExhaustedError",
     "evalue": " OOM when allocating tensor with shape[128,64,112,112] and type float on /job:localhost/replica:0/task:0/device:GPU:0 by allocator GPU_0_bfc\n\t [[node model/conv1_conv/Conv2D (defined at \\AppData\\Local\\Temp/ipykernel_14324/3735019174.py:3) ]]\nHint: If you want to see a list of allocated tensors when OOM happens, add report_tensor_allocations_upon_oom to RunOptions for current allocation info. This isn't available when running in Eager mode.\n [Op:__inference_train_function_29574]\n\nFunction call stack:\ntrain_function\n",
     "output_type": "error",
     "traceback": [
      "\u001b[1;31m---------------------------------------------------------------------------\u001b[0m",
      "\u001b[1;31mResourceExhaustedError\u001b[0m                    Traceback (most recent call last)",
      "\u001b[1;32m~\\AppData\\Local\\Temp/ipykernel_14324/3735019174.py\u001b[0m in \u001b[0;36m<module>\u001b[1;34m\u001b[0m\n\u001b[0;32m      1\u001b[0m \u001b[1;31m# Train the Model\u001b[0m\u001b[1;33m\u001b[0m\u001b[1;33m\u001b[0m\u001b[1;33m\u001b[0m\u001b[0m\n\u001b[0;32m      2\u001b[0m \u001b[1;33m\u001b[0m\u001b[0m\n\u001b[1;32m----> 3\u001b[1;33m mask_classifier.fit(x=Train_Data_Generator,\n\u001b[0m\u001b[0;32m      4\u001b[0m                     \u001b[0msteps_per_epoch\u001b[0m\u001b[1;33m=\u001b[0m\u001b[1;33m(\u001b[0m\u001b[0mTrain_Data_Generator\u001b[0m\u001b[1;33m.\u001b[0m\u001b[0mn\u001b[0m\u001b[1;33m//\u001b[0m\u001b[0mmini_batch_size\u001b[0m\u001b[1;33m)\u001b[0m\u001b[1;33m,\u001b[0m\u001b[1;33m\u001b[0m\u001b[1;33m\u001b[0m\u001b[0m\n\u001b[0;32m      5\u001b[0m                     epochs=n_epochs)\n",
      "\u001b[1;32m~\\anaconda3\\envs\\ML\\lib\\site-packages\\keras\\engine\\training.py\u001b[0m in \u001b[0;36mfit\u001b[1;34m(self, x, y, batch_size, epochs, verbose, callbacks, validation_split, validation_data, shuffle, class_weight, sample_weight, initial_epoch, steps_per_epoch, validation_steps, validation_batch_size, validation_freq, max_queue_size, workers, use_multiprocessing)\u001b[0m\n\u001b[0;32m   1182\u001b[0m                 _r=1):\n\u001b[0;32m   1183\u001b[0m               \u001b[0mcallbacks\u001b[0m\u001b[1;33m.\u001b[0m\u001b[0mon_train_batch_begin\u001b[0m\u001b[1;33m(\u001b[0m\u001b[0mstep\u001b[0m\u001b[1;33m)\u001b[0m\u001b[1;33m\u001b[0m\u001b[1;33m\u001b[0m\u001b[0m\n\u001b[1;32m-> 1184\u001b[1;33m               \u001b[0mtmp_logs\u001b[0m \u001b[1;33m=\u001b[0m \u001b[0mself\u001b[0m\u001b[1;33m.\u001b[0m\u001b[0mtrain_function\u001b[0m\u001b[1;33m(\u001b[0m\u001b[0miterator\u001b[0m\u001b[1;33m)\u001b[0m\u001b[1;33m\u001b[0m\u001b[1;33m\u001b[0m\u001b[0m\n\u001b[0m\u001b[0;32m   1185\u001b[0m               \u001b[1;32mif\u001b[0m \u001b[0mdata_handler\u001b[0m\u001b[1;33m.\u001b[0m\u001b[0mshould_sync\u001b[0m\u001b[1;33m:\u001b[0m\u001b[1;33m\u001b[0m\u001b[1;33m\u001b[0m\u001b[0m\n\u001b[0;32m   1186\u001b[0m                 \u001b[0mcontext\u001b[0m\u001b[1;33m.\u001b[0m\u001b[0masync_wait\u001b[0m\u001b[1;33m(\u001b[0m\u001b[1;33m)\u001b[0m\u001b[1;33m\u001b[0m\u001b[1;33m\u001b[0m\u001b[0m\n",
      "\u001b[1;32m~\\anaconda3\\envs\\ML\\lib\\site-packages\\tensorflow\\python\\eager\\def_function.py\u001b[0m in \u001b[0;36m__call__\u001b[1;34m(self, *args, **kwds)\u001b[0m\n\u001b[0;32m    883\u001b[0m \u001b[1;33m\u001b[0m\u001b[0m\n\u001b[0;32m    884\u001b[0m       \u001b[1;32mwith\u001b[0m \u001b[0mOptionalXlaContext\u001b[0m\u001b[1;33m(\u001b[0m\u001b[0mself\u001b[0m\u001b[1;33m.\u001b[0m\u001b[0m_jit_compile\u001b[0m\u001b[1;33m)\u001b[0m\u001b[1;33m:\u001b[0m\u001b[1;33m\u001b[0m\u001b[1;33m\u001b[0m\u001b[0m\n\u001b[1;32m--> 885\u001b[1;33m         \u001b[0mresult\u001b[0m \u001b[1;33m=\u001b[0m \u001b[0mself\u001b[0m\u001b[1;33m.\u001b[0m\u001b[0m_call\u001b[0m\u001b[1;33m(\u001b[0m\u001b[1;33m*\u001b[0m\u001b[0margs\u001b[0m\u001b[1;33m,\u001b[0m \u001b[1;33m**\u001b[0m\u001b[0mkwds\u001b[0m\u001b[1;33m)\u001b[0m\u001b[1;33m\u001b[0m\u001b[1;33m\u001b[0m\u001b[0m\n\u001b[0m\u001b[0;32m    886\u001b[0m \u001b[1;33m\u001b[0m\u001b[0m\n\u001b[0;32m    887\u001b[0m       \u001b[0mnew_tracing_count\u001b[0m \u001b[1;33m=\u001b[0m \u001b[0mself\u001b[0m\u001b[1;33m.\u001b[0m\u001b[0mexperimental_get_tracing_count\u001b[0m\u001b[1;33m(\u001b[0m\u001b[1;33m)\u001b[0m\u001b[1;33m\u001b[0m\u001b[1;33m\u001b[0m\u001b[0m\n",
      "\u001b[1;32m~\\anaconda3\\envs\\ML\\lib\\site-packages\\tensorflow\\python\\eager\\def_function.py\u001b[0m in \u001b[0;36m_call\u001b[1;34m(self, *args, **kwds)\u001b[0m\n\u001b[0;32m    948\u001b[0m         \u001b[1;31m# Lifting succeeded, so variables are initialized and we can run the\u001b[0m\u001b[1;33m\u001b[0m\u001b[1;33m\u001b[0m\u001b[1;33m\u001b[0m\u001b[0m\n\u001b[0;32m    949\u001b[0m         \u001b[1;31m# stateless function.\u001b[0m\u001b[1;33m\u001b[0m\u001b[1;33m\u001b[0m\u001b[1;33m\u001b[0m\u001b[0m\n\u001b[1;32m--> 950\u001b[1;33m         \u001b[1;32mreturn\u001b[0m \u001b[0mself\u001b[0m\u001b[1;33m.\u001b[0m\u001b[0m_stateless_fn\u001b[0m\u001b[1;33m(\u001b[0m\u001b[1;33m*\u001b[0m\u001b[0margs\u001b[0m\u001b[1;33m,\u001b[0m \u001b[1;33m**\u001b[0m\u001b[0mkwds\u001b[0m\u001b[1;33m)\u001b[0m\u001b[1;33m\u001b[0m\u001b[1;33m\u001b[0m\u001b[0m\n\u001b[0m\u001b[0;32m    951\u001b[0m     \u001b[1;32melse\u001b[0m\u001b[1;33m:\u001b[0m\u001b[1;33m\u001b[0m\u001b[1;33m\u001b[0m\u001b[0m\n\u001b[0;32m    952\u001b[0m       \u001b[0m_\u001b[0m\u001b[1;33m,\u001b[0m \u001b[0m_\u001b[0m\u001b[1;33m,\u001b[0m \u001b[0m_\u001b[0m\u001b[1;33m,\u001b[0m \u001b[0mfiltered_flat_args\u001b[0m \u001b[1;33m=\u001b[0m\u001b[0;31m \u001b[0m\u001b[0;31m\\\u001b[0m\u001b[1;33m\u001b[0m\u001b[1;33m\u001b[0m\u001b[0m\n",
      "\u001b[1;32m~\\anaconda3\\envs\\ML\\lib\\site-packages\\tensorflow\\python\\eager\\function.py\u001b[0m in \u001b[0;36m__call__\u001b[1;34m(self, *args, **kwargs)\u001b[0m\n\u001b[0;32m   3037\u001b[0m       (graph_function,\n\u001b[0;32m   3038\u001b[0m        filtered_flat_args) = self._maybe_define_function(args, kwargs)\n\u001b[1;32m-> 3039\u001b[1;33m     return graph_function._call_flat(\n\u001b[0m\u001b[0;32m   3040\u001b[0m         filtered_flat_args, captured_inputs=graph_function.captured_inputs)  # pylint: disable=protected-access\n\u001b[0;32m   3041\u001b[0m \u001b[1;33m\u001b[0m\u001b[0m\n",
      "\u001b[1;32m~\\anaconda3\\envs\\ML\\lib\\site-packages\\tensorflow\\python\\eager\\function.py\u001b[0m in \u001b[0;36m_call_flat\u001b[1;34m(self, args, captured_inputs, cancellation_manager)\u001b[0m\n\u001b[0;32m   1961\u001b[0m         and executing_eagerly):\n\u001b[0;32m   1962\u001b[0m       \u001b[1;31m# No tape is watching; skip to running the function.\u001b[0m\u001b[1;33m\u001b[0m\u001b[1;33m\u001b[0m\u001b[1;33m\u001b[0m\u001b[0m\n\u001b[1;32m-> 1963\u001b[1;33m       return self._build_call_outputs(self._inference_function.call(\n\u001b[0m\u001b[0;32m   1964\u001b[0m           ctx, args, cancellation_manager=cancellation_manager))\n\u001b[0;32m   1965\u001b[0m     forward_backward = self._select_forward_and_backward_functions(\n",
      "\u001b[1;32m~\\anaconda3\\envs\\ML\\lib\\site-packages\\tensorflow\\python\\eager\\function.py\u001b[0m in \u001b[0;36mcall\u001b[1;34m(self, ctx, args, cancellation_manager)\u001b[0m\n\u001b[0;32m    589\u001b[0m       \u001b[1;32mwith\u001b[0m \u001b[0m_InterpolateFunctionError\u001b[0m\u001b[1;33m(\u001b[0m\u001b[0mself\u001b[0m\u001b[1;33m)\u001b[0m\u001b[1;33m:\u001b[0m\u001b[1;33m\u001b[0m\u001b[1;33m\u001b[0m\u001b[0m\n\u001b[0;32m    590\u001b[0m         \u001b[1;32mif\u001b[0m \u001b[0mcancellation_manager\u001b[0m \u001b[1;32mis\u001b[0m \u001b[1;32mNone\u001b[0m\u001b[1;33m:\u001b[0m\u001b[1;33m\u001b[0m\u001b[1;33m\u001b[0m\u001b[0m\n\u001b[1;32m--> 591\u001b[1;33m           outputs = execute.execute(\n\u001b[0m\u001b[0;32m    592\u001b[0m               \u001b[0mstr\u001b[0m\u001b[1;33m(\u001b[0m\u001b[0mself\u001b[0m\u001b[1;33m.\u001b[0m\u001b[0msignature\u001b[0m\u001b[1;33m.\u001b[0m\u001b[0mname\u001b[0m\u001b[1;33m)\u001b[0m\u001b[1;33m,\u001b[0m\u001b[1;33m\u001b[0m\u001b[1;33m\u001b[0m\u001b[0m\n\u001b[0;32m    593\u001b[0m               \u001b[0mnum_outputs\u001b[0m\u001b[1;33m=\u001b[0m\u001b[0mself\u001b[0m\u001b[1;33m.\u001b[0m\u001b[0m_num_outputs\u001b[0m\u001b[1;33m,\u001b[0m\u001b[1;33m\u001b[0m\u001b[1;33m\u001b[0m\u001b[0m\n",
      "\u001b[1;32m~\\anaconda3\\envs\\ML\\lib\\site-packages\\tensorflow\\python\\eager\\execute.py\u001b[0m in \u001b[0;36mquick_execute\u001b[1;34m(op_name, num_outputs, inputs, attrs, ctx, name)\u001b[0m\n\u001b[0;32m     57\u001b[0m   \u001b[1;32mtry\u001b[0m\u001b[1;33m:\u001b[0m\u001b[1;33m\u001b[0m\u001b[1;33m\u001b[0m\u001b[0m\n\u001b[0;32m     58\u001b[0m     \u001b[0mctx\u001b[0m\u001b[1;33m.\u001b[0m\u001b[0mensure_initialized\u001b[0m\u001b[1;33m(\u001b[0m\u001b[1;33m)\u001b[0m\u001b[1;33m\u001b[0m\u001b[1;33m\u001b[0m\u001b[0m\n\u001b[1;32m---> 59\u001b[1;33m     tensors = pywrap_tfe.TFE_Py_Execute(ctx._handle, device_name, op_name,\n\u001b[0m\u001b[0;32m     60\u001b[0m                                         inputs, attrs, num_outputs)\n\u001b[0;32m     61\u001b[0m   \u001b[1;32mexcept\u001b[0m \u001b[0mcore\u001b[0m\u001b[1;33m.\u001b[0m\u001b[0m_NotOkStatusException\u001b[0m \u001b[1;32mas\u001b[0m \u001b[0me\u001b[0m\u001b[1;33m:\u001b[0m\u001b[1;33m\u001b[0m\u001b[1;33m\u001b[0m\u001b[0m\n",
      "\u001b[1;31mResourceExhaustedError\u001b[0m:  OOM when allocating tensor with shape[128,64,112,112] and type float on /job:localhost/replica:0/task:0/device:GPU:0 by allocator GPU_0_bfc\n\t [[node model/conv1_conv/Conv2D (defined at \\AppData\\Local\\Temp/ipykernel_14324/3735019174.py:3) ]]\nHint: If you want to see a list of allocated tensors when OOM happens, add report_tensor_allocations_upon_oom to RunOptions for current allocation info. This isn't available when running in Eager mode.\n [Op:__inference_train_function_29574]\n\nFunction call stack:\ntrain_function\n"
     ]
    }
   ],
   "source": [
    "# Train the Model\n",
    "\n",
    "mask_classifier.fit(x=Train_Data_Generator,\n",
    "                    steps_per_epoch=(Train_Data_Generator.n//mini_batch_size),\n",
    "                    epochs=n_epochs)"
   ]
  },
  {
   "cell_type": "code",
   "execution_count": 23,
   "metadata": {
    "colab": {
     "base_uri": "https://localhost:8080/",
     "height": 355
    },
    "colab_type": "code",
    "id": "QMVyxT5EeJR_",
    "outputId": "3459a26e-271f-4439-dfa8-2fe7a744fc49"
   },
   "outputs": [
    {
     "data": {
      "image/png": "[encoded data removed]",
      "text/plain": [
       "<Figure size 432x288 with 1 Axes>"
      ]
     },
     "metadata": {
      "needs_background": "light"
     },
     "output_type": "display_data"
    }
   ],
   "source": [
    "# Test the Model on a Picture\n",
    "import matplotlib.pyplot as plt\n",
    "\n",
    "FILE_PATH = r\"C:\\Users\\ShiYou\\Desktop\\Sem 7\\WID3008 Image Processing\\Assignment\\Social_Distancing_with_AI\\test3.jpg\"\n",
    "\n",
    "img = cv2.imread(FILE_PATH)\n",
    "masked_faces = []\n",
    "unmasked_faces = []\n",
    "\n",
    "# Detect Faces\n",
    "detections = detector.detect(img[:,:,::-1])\n",
    "\n",
    "if detections.shape[0]>0:\n",
    "      \n",
    "  for i in range(detections.shape[0]):\n",
    "  \n",
    "    # Get Co-ordinates\n",
    "    x1 = int(detections[i][0])\n",
    "    x2 = int(detections[i][2])\n",
    "    y1 = int(detections[i][1])\n",
    "    y2 = int(detections[i][3])\n",
    "\n",
    "    # Predict Output\n",
    "    face_arr = cv2.resize(img[y1:y2,x1:x2,::-1], (224, 224), interpolation=cv2.INTER_NEAREST)\n",
    "    face_arr = np.expand_dims(face_arr, axis=0)\n",
    "    face_arr = preprocess_input(face_arr)\n",
    "    match = mask_classifier.predict(face_arr)\n",
    "\n",
    "    if match[0][0]<0.5:\n",
    "      masked_faces.append([x1,y1,x2,y2])\n",
    "    else:\n",
    "      unmasked_faces.append([x1,y1,x2,y2])\n",
    "\n",
    "# Put Bounding Box on the Faces (Green:Masked,Red:Not-Masked)\n",
    "for f in range(len(masked_faces)):\n",
    "\n",
    "  a,b,c,d = masked_faces[f]\n",
    "  cv2.rectangle(img, (a,b), (c,d), (0,255,0), 2)\n",
    "\n",
    "for f in range(len(unmasked_faces)):\n",
    "\n",
    "  a,b,c,d = unmasked_faces[f]\n",
    "  cv2.rectangle(img, (a,b), (c,d), (0,0,255), 2)\n",
    "\n",
    "# Show Results\n",
    "plt.imshow(img)\n",
    "plt.show()"
   ]
  },
  {
   "cell_type": "code",
   "execution_count": 24,
   "metadata": {
    "colab": {},
    "colab_type": "code",
    "id": "wcZoAtsiMzDX"
   },
   "outputs": [
    {
     "name": "stderr",
     "output_type": "stream",
     "text": [
      "C:\\Users\\ShiYou\\anaconda3\\envs\\ML\\lib\\site-packages\\keras\\utils\\generic_utils.py:494: CustomMaskWarning: Custom mask layers require a config and must override get_config. When loading, the custom mask layer must be passed to the custom_objects argument.\n",
      "  warnings.warn('Custom mask layers require a config and must override '\n"
     ]
    }
   ],
   "source": [
    "# Save the Trained Weights to Disk\n",
    "\n",
    "SAVE_PATH = r\"C:\\Users\\ShiYou\\Desktop\\Sem 7\\WID3008 Image Processing\\Assignment\\Social_Distancing_with_AI\\ResNet50_Classifier.h5\"\n",
    "mask_classifier.save(SAVE_PATH)"
   ]
  }
 ],
 "metadata": {
  "accelerator": "GPU",
  "colab": {
   "collapsed_sections": [],
   "name": "Face_Mask_Classifier.ipynb",
   "provenance": []
  },
  "kernelspec": {
   "display_name": "Python 3 (ipykernel)",
   "language": "python",
   "name": "python3"
  },
  "language_info": {
   "codemirror_mode": {
    "name": "ipython",
    "version": 3
   },
   "file_extension": ".py",
   "mimetype": "text/x-python",
   "name": "python",
   "nbconvert_exporter": "python",
   "pygments_lexer": "ipython3",
   "version": "3.8.0"
  }
 },
 "nbformat": 4,
 "nbformat_minor": 1
}
